{
 "cells": [
  {
   "cell_type": "code",
   "execution_count": 1,
   "id": "db467818",
   "metadata": {},
   "outputs": [],
   "source": [
    "import pandas as pd"
   ]
  },
  {
   "cell_type": "code",
   "execution_count": 2,
   "id": "d3f986e1",
   "metadata": {},
   "outputs": [
    {
     "data": {
      "text/html": [
       "<div>\n",
       "<style scoped>\n",
       "    .dataframe tbody tr th:only-of-type {\n",
       "        vertical-align: middle;\n",
       "    }\n",
       "\n",
       "    .dataframe tbody tr th {\n",
       "        vertical-align: top;\n",
       "    }\n",
       "\n",
       "    .dataframe thead th {\n",
       "        text-align: right;\n",
       "    }\n",
       "</style>\n",
       "<table border=\"1\" class=\"dataframe\">\n",
       "  <thead>\n",
       "    <tr style=\"text-align: right;\">\n",
       "      <th></th>\n",
       "      <th>commission_id</th>\n",
       "      <th>salesperson_id</th>\n",
       "      <th>commission_amount</th>\n",
       "      <th>commission_date</th>\n",
       "    </tr>\n",
       "  </thead>\n",
       "  <tbody>\n",
       "    <tr>\n",
       "      <th>0</th>\n",
       "      <td>1</td>\n",
       "      <td>19</td>\n",
       "      <td>87.07</td>\n",
       "      <td>2016-01-01</td>\n",
       "    </tr>\n",
       "    <tr>\n",
       "      <th>1</th>\n",
       "      <td>2</td>\n",
       "      <td>38</td>\n",
       "      <td>336.26</td>\n",
       "      <td>2016-01-01</td>\n",
       "    </tr>\n",
       "    <tr>\n",
       "      <th>2</th>\n",
       "      <td>3</td>\n",
       "      <td>42</td>\n",
       "      <td>280.89</td>\n",
       "      <td>2016-01-01</td>\n",
       "    </tr>\n",
       "    <tr>\n",
       "      <th>3</th>\n",
       "      <td>4</td>\n",
       "      <td>74</td>\n",
       "      <td>193.83</td>\n",
       "      <td>2016-01-01</td>\n",
       "    </tr>\n",
       "    <tr>\n",
       "      <th>4</th>\n",
       "      <td>5</td>\n",
       "      <td>79</td>\n",
       "      <td>106.19</td>\n",
       "      <td>2016-01-01</td>\n",
       "    </tr>\n",
       "  </tbody>\n",
       "</table>\n",
       "</div>"
      ],
      "text/plain": [
       "   commission_id  salesperson_id  commission_amount commission_date\n",
       "0              1              19              87.07      2016-01-01\n",
       "1              2              38             336.26      2016-01-01\n",
       "2              3              42             280.89      2016-01-01\n",
       "3              4              74             193.83      2016-01-01\n",
       "4              5              79             106.19      2016-01-01"
      ]
     },
     "execution_count": 2,
     "metadata": {},
     "output_type": "execute_result"
    }
   ],
   "source": [
    "df = pd.read_csv('https://raw.githubusercontent.com/lontok/datasets/main/digital_marketing_commission.csv')\n",
    "\n",
    "# first 5 rows of the dataframe\n",
    "df.head()"
   ]
  },
  {
   "cell_type": "code",
   "execution_count": 3,
   "id": "ad1624e7",
   "metadata": {},
   "outputs": [
    {
     "data": {
      "text/plain": [
       "salesperson_id\n",
       "3       5699.60\n",
       "7       4285.57\n",
       "8       9692.92\n",
       "10     17912.63\n",
       "18     11827.42\n",
       "19      7642.45\n",
       "20     14354.05\n",
       "27     12495.49\n",
       "29     13395.07\n",
       "31     15635.14\n",
       "32     11184.99\n",
       "33     15147.44\n",
       "34     20665.41\n",
       "38     17288.37\n",
       "40     18917.16\n",
       "41     18586.24\n",
       "42     13893.25\n",
       "44     21465.44\n",
       "47     20142.10\n",
       "49     18165.48\n",
       "53     16277.72\n",
       "56     14755.00\n",
       "61     15630.38\n",
       "63     11536.03\n",
       "64     13205.38\n",
       "66     19232.77\n",
       "69     20730.44\n",
       "71     12429.50\n",
       "74     14520.84\n",
       "75     16349.36\n",
       "78     20689.56\n",
       "79     21272.00\n",
       "89     21363.92\n",
       "95     12284.90\n",
       "98     15923.94\n",
       "103    12352.67\n",
       "104    17637.41\n",
       "105    18170.21\n",
       "106    15428.95\n",
       "109    13138.67\n",
       "114    22181.50\n",
       "116    24730.04\n",
       "117    19114.34\n",
       "118    16555.63\n",
       "119     8019.81\n",
       "121    19306.84\n",
       "126    14915.49\n",
       "128    20000.35\n",
       "129    13726.68\n",
       "131    18922.20\n",
       "132    16344.38\n",
       "136    20410.75\n",
       "137     3257.23\n",
       "138    16916.72\n",
       "139    12384.80\n",
       "Name: commission_amount, dtype: float64"
      ]
     },
     "execution_count": 3,
     "metadata": {},
     "output_type": "execute_result"
    }
   ],
   "source": [
    "df.groupby('salesperson_id')['commission_amount'].sum()"
   ]
  },
  {
   "cell_type": "code",
   "execution_count": 4,
   "id": "8e184a02",
   "metadata": {},
   "outputs": [
    {
     "data": {
      "text/plain": [
       "salesperson_id\n",
       "116    24730.04\n",
       "114    22181.50\n",
       "44     21465.44\n",
       "89     21363.92\n",
       "79     21272.00\n",
       "69     20730.44\n",
       "78     20689.56\n",
       "34     20665.41\n",
       "136    20410.75\n",
       "47     20142.10\n",
       "128    20000.35\n",
       "121    19306.84\n",
       "66     19232.77\n",
       "117    19114.34\n",
       "131    18922.20\n",
       "40     18917.16\n",
       "41     18586.24\n",
       "105    18170.21\n",
       "49     18165.48\n",
       "10     17912.63\n",
       "104    17637.41\n",
       "38     17288.37\n",
       "138    16916.72\n",
       "118    16555.63\n",
       "75     16349.36\n",
       "132    16344.38\n",
       "53     16277.72\n",
       "98     15923.94\n",
       "31     15635.14\n",
       "61     15630.38\n",
       "106    15428.95\n",
       "33     15147.44\n",
       "126    14915.49\n",
       "56     14755.00\n",
       "74     14520.84\n",
       "20     14354.05\n",
       "42     13893.25\n",
       "129    13726.68\n",
       "29     13395.07\n",
       "64     13205.38\n",
       "109    13138.67\n",
       "27     12495.49\n",
       "71     12429.50\n",
       "139    12384.80\n",
       "103    12352.67\n",
       "95     12284.90\n",
       "18     11827.42\n",
       "63     11536.03\n",
       "32     11184.99\n",
       "8       9692.92\n",
       "119     8019.81\n",
       "19      7642.45\n",
       "3       5699.60\n",
       "7       4285.57\n",
       "137     3257.23\n",
       "Name: commission_amount, dtype: float64"
      ]
     },
     "execution_count": 4,
     "metadata": {},
     "output_type": "execute_result"
    }
   ],
   "source": [
    "df.groupby('salesperson_id')['commission_amount'].sum().sort_values(ascending=False)"
   ]
  },
  {
   "cell_type": "code",
   "execution_count": 5,
   "id": "0cd6aa0a",
   "metadata": {},
   "outputs": [
    {
     "data": {
      "text/plain": [
       "(3119, 4)"
      ]
     },
     "execution_count": 5,
     "metadata": {},
     "output_type": "execute_result"
    }
   ],
   "source": [
    "df.shape"
   ]
  },
  {
   "cell_type": "code",
   "execution_count": 6,
   "id": "c5622610",
   "metadata": {},
   "outputs": [
    {
     "name": "stdout",
     "output_type": "stream",
     "text": [
      "<class 'pandas.core.frame.DataFrame'>\n",
      "RangeIndex: 3119 entries, 0 to 3118\n",
      "Data columns (total 4 columns):\n",
      " #   Column             Non-Null Count  Dtype  \n",
      "---  ------             --------------  -----  \n",
      " 0   commission_id      3119 non-null   int64  \n",
      " 1   salesperson_id     3119 non-null   int64  \n",
      " 2   commission_amount  3119 non-null   float64\n",
      " 3   commission_date    3119 non-null   object \n",
      "dtypes: float64(1), int64(2), object(1)\n",
      "memory usage: 97.6+ KB\n"
     ]
    }
   ],
   "source": [
    "df.info()"
   ]
  },
  {
   "cell_type": "code",
   "execution_count": 7,
   "id": "4a0537ae",
   "metadata": {},
   "outputs": [
    {
     "data": {
      "text/plain": [
       "commission_id        0\n",
       "salesperson_id       0\n",
       "commission_amount    0\n",
       "commission_date      0\n",
       "dtype: int64"
      ]
     },
     "execution_count": 7,
     "metadata": {},
     "output_type": "execute_result"
    }
   ],
   "source": [
    "df.isnull().sum()"
   ]
  },
  {
   "cell_type": "code",
   "execution_count": 8,
   "id": "ea815c39",
   "metadata": {},
   "outputs": [
    {
     "data": {
      "text/html": [
       "<div>\n",
       "<style scoped>\n",
       "    .dataframe tbody tr th:only-of-type {\n",
       "        vertical-align: middle;\n",
       "    }\n",
       "\n",
       "    .dataframe tbody tr th {\n",
       "        vertical-align: top;\n",
       "    }\n",
       "\n",
       "    .dataframe thead th {\n",
       "        text-align: right;\n",
       "    }\n",
       "</style>\n",
       "<table border=\"1\" class=\"dataframe\">\n",
       "  <thead>\n",
       "    <tr style=\"text-align: right;\">\n",
       "      <th></th>\n",
       "      <th>commission_id</th>\n",
       "      <th>salesperson_id</th>\n",
       "      <th>commission_amount</th>\n",
       "    </tr>\n",
       "  </thead>\n",
       "  <tbody>\n",
       "    <tr>\n",
       "      <th>count</th>\n",
       "      <td>3119.000000</td>\n",
       "      <td>3119.000000</td>\n",
       "      <td>3119.000000</td>\n",
       "    </tr>\n",
       "    <tr>\n",
       "      <th>mean</th>\n",
       "      <td>1560.000000</td>\n",
       "      <td>77.033665</td>\n",
       "      <td>275.124280</td>\n",
       "    </tr>\n",
       "    <tr>\n",
       "      <th>std</th>\n",
       "      <td>900.522071</td>\n",
       "      <td>39.337349</td>\n",
       "      <td>130.110898</td>\n",
       "    </tr>\n",
       "    <tr>\n",
       "      <th>min</th>\n",
       "      <td>1.000000</td>\n",
       "      <td>3.000000</td>\n",
       "      <td>50.160000</td>\n",
       "    </tr>\n",
       "    <tr>\n",
       "      <th>25%</th>\n",
       "      <td>780.500000</td>\n",
       "      <td>41.000000</td>\n",
       "      <td>161.220000</td>\n",
       "    </tr>\n",
       "    <tr>\n",
       "      <th>50%</th>\n",
       "      <td>1560.000000</td>\n",
       "      <td>74.000000</td>\n",
       "      <td>275.520000</td>\n",
       "    </tr>\n",
       "    <tr>\n",
       "      <th>75%</th>\n",
       "      <td>2339.500000</td>\n",
       "      <td>116.000000</td>\n",
       "      <td>386.050000</td>\n",
       "    </tr>\n",
       "    <tr>\n",
       "      <th>max</th>\n",
       "      <td>3119.000000</td>\n",
       "      <td>139.000000</td>\n",
       "      <td>499.970000</td>\n",
       "    </tr>\n",
       "  </tbody>\n",
       "</table>\n",
       "</div>"
      ],
      "text/plain": [
       "       commission_id  salesperson_id  commission_amount\n",
       "count    3119.000000     3119.000000        3119.000000\n",
       "mean     1560.000000       77.033665         275.124280\n",
       "std       900.522071       39.337349         130.110898\n",
       "min         1.000000        3.000000          50.160000\n",
       "25%       780.500000       41.000000         161.220000\n",
       "50%      1560.000000       74.000000         275.520000\n",
       "75%      2339.500000      116.000000         386.050000\n",
       "max      3119.000000      139.000000         499.970000"
      ]
     },
     "execution_count": 8,
     "metadata": {},
     "output_type": "execute_result"
    }
   ],
   "source": [
    "df.describe()"
   ]
  },
  {
   "cell_type": "code",
   "execution_count": 9,
   "id": "cf61cf5d",
   "metadata": {},
   "outputs": [
    {
     "data": {
      "text/plain": [
       "0"
      ]
     },
     "execution_count": 9,
     "metadata": {},
     "output_type": "execute_result"
    }
   ],
   "source": [
    "# check for duplicates\n",
    "df.duplicated().sum()"
   ]
  },
  {
   "cell_type": "code",
   "execution_count": 10,
   "id": "375ef5d6",
   "metadata": {},
   "outputs": [],
   "source": [
    "df['commission_date'] = pd.to_datetime(df['commission_date']).dt.strftime('%m/%d/%Y')"
   ]
  },
  {
   "cell_type": "code",
   "execution_count": 11,
   "id": "cea6dbb7",
   "metadata": {},
   "outputs": [
    {
     "data": {
      "text/plain": [
       "0       01/01/2016\n",
       "1       01/01/2016\n",
       "2       01/01/2016\n",
       "3       01/01/2016\n",
       "4       01/01/2016\n",
       "           ...    \n",
       "3114    12/29/2017\n",
       "3115    12/29/2017\n",
       "3116    12/29/2017\n",
       "3117    12/29/2017\n",
       "3118    12/29/2017\n",
       "Name: commission_date, Length: 3119, dtype: object"
      ]
     },
     "execution_count": 11,
     "metadata": {},
     "output_type": "execute_result"
    }
   ],
   "source": [
    "df['commission_date']"
   ]
  },
  {
   "cell_type": "code",
   "execution_count": 12,
   "id": "939d7607",
   "metadata": {},
   "outputs": [
    {
     "data": {
      "text/plain": [
       "salesperson_id\n",
       "116    24730.04\n",
       "114    22181.50\n",
       "44     21465.44\n",
       "89     21363.92\n",
       "79     21272.00\n",
       "Name: commission_amount, dtype: float64"
      ]
     },
     "execution_count": 12,
     "metadata": {},
     "output_type": "execute_result"
    }
   ],
   "source": [
    "df.groupby('salesperson_id')['commission_amount'].sum().sort_values(ascending=False).head()"
   ]
  },
  {
   "cell_type": "code",
   "execution_count": 13,
   "id": "1ca31430",
   "metadata": {},
   "outputs": [
    {
     "data": {
      "text/plain": [
       "<Axes: xlabel='salesperson_id'>"
      ]
     },
     "execution_count": 13,
     "metadata": {},
     "output_type": "execute_result"
    },
    {
     "data": {
      "image/png": "[encoded data removed]",
      "text/plain": [
       "<Figure size 640x480 with 1 Axes>"
      ]
     },
     "metadata": {},
     "output_type": "display_data"
    }
   ],
   "source": [
    "df.groupby('salesperson_id')['commission_amount'].sum().sort_values(ascending=False).head().plot(kind='bar')"
   ]
  },
  {
   "cell_type": "code",
   "execution_count": 14,
   "id": "a46429af",
   "metadata": {},
   "outputs": [
    {
     "data": {
      "text/plain": [
       "<Axes: >"
      ]
     },
     "execution_count": 14,
     "metadata": {},
     "output_type": "execute_result"
    },
    {
     "data": {
      "image/png": "[encoded data removed]",
      "text/plain": [
       "<Figure size 640x480 with 1 Axes>"
      ]
     },
     "metadata": {},
     "output_type": "display_data"
    }
   ],
   "source": [
    "df['commission_amount'].plot(kind='box')"
   ]
  },
  {
   "cell_type": "code",
   "execution_count": null,
   "id": "5a8c203b",
   "metadata": {},
   "outputs": [],
   "source": []
  }
 ],
 "metadata": {
  "kernelspec": {
   "display_name": "Python 3 (ipykernel)",
   "language": "python",
   "name": "python3"
  },
  "language_info": {
   "codemirror_mode": {
    "name": "ipython",
    "version": 3
   },
   "file_extension": ".py",
   "mimetype": "text/x-python",
   "name": "python",
   "nbconvert_exporter": "python",
   "pygments_lexer": "ipython3",
   "version": "3.11.5"
  }
 },
 "nbformat": 4,
 "nbformat_minor": 5
}
